{
 "cells": [
  {
   "cell_type": "code",
   "execution_count": 1,
   "metadata": {},
   "outputs": [
    {
     "name": "stdout",
     "output_type": "stream",
     "text": [
      "Yep\n",
      "1\n"
     ]
    },
    {
     "data": {
      "text/plain": [
       ":ok"
      ]
     },
     "execution_count": 1,
     "metadata": {},
     "output_type": "execute_result"
    }
   ],
   "source": [
    "case {1,2,3} do \n",
    "    {4,5,6} -> \"Nope!\"\n",
    "    {x,y,z} -> \n",
    "    IO.puts(\"Yep\")\n",
    "    IO.puts(x)\n",
    "    _ -> \"done\"\n",
    "end\n"
   ]
  },
  {
   "cell_type": "code",
   "execution_count": 2,
   "metadata": {},
   "outputs": [
    {
     "data": {
      "text/plain": [
       "1"
      ]
     },
     "execution_count": 2,
     "metadata": {},
     "output_type": "execute_result"
    }
   ],
   "source": [
    "x = 1"
   ]
  },
  {
   "cell_type": "code",
   "execution_count": 3,
   "metadata": {},
   "outputs": [
    {
     "data": {
      "text/plain": [
       "\"Always\""
      ]
     },
     "execution_count": 3,
     "metadata": {},
     "output_type": "execute_result"
    }
   ],
   "source": [
    "case 10 do\n",
    "    ^x -> \"Nope\"\n",
    "    _ -> \"Always\"\n",
    "end"
   ]
  },
  {
   "cell_type": "code",
   "execution_count": 4,
   "metadata": {},
   "outputs": [
    {
     "data": {
      "text/plain": [
       "\"On all others\""
      ]
     },
     "execution_count": 4,
     "metadata": {},
     "output_type": "execute_result"
    }
   ],
   "source": [
    "case {2,1,3} do\n",
    "    {1,x,3} when x > 0 ->\n",
    "        \"gotcha\"\n",
    "    _ -> \"On all others\"\n",
    "end"
   ]
  },
  {
   "cell_type": "code",
   "execution_count": 5,
   "metadata": {},
   "outputs": [
    {
     "data": {
      "text/plain": [
       "{:module, Vageli, <<70, 79, 82, 49, 0, 0, 3, 184, 66, 69, 65, 77, 65, 116, 85, 56, 0, 0, 0, 96, 0, 0, 0, 9, 13, 69, 108, 105, 120, 105, 114, 46, 86, 97, 103, 101, 108, 105, 8, 95, 95, 105, 110, 102, 111, 95, 95, ...>>, {:empty_map?, 1}}"
      ]
     },
     "execution_count": 5,
     "metadata": {},
     "output_type": "execute_result"
    }
   ],
   "source": [
    "defmodule Vageli do\n",
    "#def empty_map?(map) when map_size(map) == 0, do: true\n",
    "\n",
    "def empty_map?(map) when is_map(map), do: false\n",
    "\n",
    "end\n",
    "\n"
   ]
  },
  {
   "cell_type": "code",
   "execution_count": 6,
   "metadata": {},
   "outputs": [
    {
     "data": {
      "text/plain": [
       "[module: Vageli, exports: [__info__: 1, empty_map?: 1, module_info: 0, module_info: 1], attributes: [vsn: [164554138348532084411680307848550206307]], compile: [options: [], version: '7.1.4', source: '/Users/vageli/workspace/IElixir/nofile'], native: false, md5: <<123, 203, 249, 104, 145, 90, 110, 112, 170, 124, 162, 133, 128, 202, 203, 99>>]"
      ]
     },
     "execution_count": 6,
     "metadata": {},
     "output_type": "execute_result"
    }
   ],
   "source": [
    "Vageli.module_info"
   ]
  },
  {
   "cell_type": "code",
   "execution_count": 7,
   "metadata": {},
   "outputs": [
    {
     "ename": "FunctionClauseError",
     "evalue": "1",
     "output_type": "error",
     "traceback": [
      "** %FunctionClauseError{args: nil, arity: 1, clauses: nil, function: :empty_map?, kind: nil, module: Vageli}"
     ]
    }
   ],
   "source": [
    "Vageli.empty_map?(\"a\")"
   ]
  },
  {
   "cell_type": "markdown",
   "metadata": {
    "tags": [
     "section"
    ]
   },
   "source": [
    "### Anonymous functions"
   ]
  },
  {
   "cell_type": "code",
   "execution_count": 7,
   "metadata": {},
   "outputs": [
    {
     "data": {
      "text/plain": [
       "#Function<12.99386804/2 in :erl_eval.expr/5>"
      ]
     },
     "execution_count": 7,
     "metadata": {},
     "output_type": "execute_result"
    }
   ],
   "source": [
    "f = fn\n",
    "    x, y when x >= 0 -> IO.puts(\"#{x} + #{y}\"); x + y\n",
    "    x, y -> IO.puts(\"#{x} * #{y}\"); x * y # Technically the 'catch-all' since always evaled\n",
    "                 # if guard fails\n",
    "end"
   ]
  },
  {
   "cell_type": "code",
   "execution_count": 8,
   "metadata": {},
   "outputs": [
    {
     "name": "stdout",
     "output_type": "stream",
     "text": [
      "0 + 3\n"
     ]
    },
    {
     "data": {
      "text/plain": [
       "3"
      ]
     },
     "execution_count": 8,
     "metadata": {},
     "output_type": "execute_result"
    }
   ],
   "source": [
    "f.(0,3) # x + y"
   ]
  },
  {
   "cell_type": "code",
   "execution_count": 9,
   "metadata": {},
   "outputs": [
    {
     "name": "stdout",
     "output_type": "stream",
     "text": [
      "-1 * 5\n"
     ]
    },
    {
     "data": {
      "text/plain": [
       "-5"
      ]
     },
     "execution_count": 9,
     "metadata": {},
     "output_type": "execute_result"
    }
   ],
   "source": [
    "f.(-1,5) # x * y"
   ]
  },
  {
   "cell_type": "markdown",
   "metadata": {},
   "source": [
    "#### Can't mix arities"
   ]
  },
  {
   "cell_type": "code",
   "execution_count": 10,
   "metadata": {},
   "outputs": [
    {
     "ename": "CompileError",
     "evalue": "1",
     "output_type": "error",
     "traceback": [
      "** (CompileError) console:1 \"cannot mix clauses with different arities in anonymous functions\""
     ]
    }
   ],
   "source": [
    "f = fn\n",
    "    x, y when x >= 0 -> x + y\n",
    "    x, y,z -> x * y\n",
    "end"
   ]
  },
  {
   "cell_type": "code",
   "execution_count": 10,
   "metadata": {},
   "outputs": [
    {
     "data": {
      "text/plain": [
       "[__info__: 1, binread: 1, binread: 2, binstream: 2, binwrite: 1, binwrite: 2, each_binstream: 2, each_stream: 2, getn: 1, getn: 2, getn: 3, gets: 1, gets: 2, inspect: 1, inspect: 2, inspect: 3, iodata_length: 1, iodata_to_binary: 1, read: 1, read: 2, stream: 2, warn: 2, write: 1, module_info: 0, module_info: 1, puts: 2, write: 2, puts: 1, warn: 1, chardata_to_string: 1]"
      ]
     },
     "execution_count": 10,
     "metadata": {},
     "output_type": "execute_result"
    }
   ],
   "source": [
    "IO.module_info(:exports)"
   ]
  },
  {
   "cell_type": "code",
   "execution_count": 11,
   "metadata": {
    "tags": [
     "info"
    ]
   },
   "outputs": [
    {
     "name": "stdout",
     "output_type": "stream",
     "text": [
      "\u001b[0m\n",
      "\u001b[7m\u001b[33m                       def gets(device \\\\ :stdio, prompt)                       \u001b[0m\n",
      "\u001b[0m\n",
      "Reads a line from the IO \u001b[36mdevice\u001b[0m.\n",
      "\u001b[0m\n",
      "It returns:\n",
      "\u001b[0m\n",
      "  • \u001b[36mdata\u001b[0m - the characters in the line terminated by a line-feed (LF) or end\n",
      "    of file (EOF)\n",
      "  • \u001b[36m:eof\u001b[0m - end of file was encountered\n",
      "  • \u001b[36m{:error, reason}\u001b[0m - other (rare) error condition; for instance, \u001b[36m{:error,\n",
      "    :estale}\u001b[0m if reading from an NFS volume\n",
      "\u001b[0m\n",
      "\u001b[33m## Examples\u001b[0m\n",
      "\u001b[0m\n",
      "To display \"What is your name?\" as a prompt and await user input:\n",
      "\u001b[0m\n",
      "\u001b[36m    IO.gets \"What is your name?\\n\"\u001b[0m\n",
      "\u001b[0m\n"
     ]
    }
   ],
   "source": [
    "h IO.gets()"
   ]
  },
  {
   "cell_type": "code",
   "execution_count": 12,
   "metadata": {},
   "outputs": [
    {
     "name": "stdout",
     "output_type": "stream",
     "text": [
      "What?"
     ]
    },
    {
     "data": {
      "text/plain": [
       ":eof"
      ]
     },
     "execution_count": 12,
     "metadata": {},
     "output_type": "execute_result"
    }
   ],
   "source": [
    "IO.gets(\"What?\")"
   ]
  },
  {
   "cell_type": "markdown",
   "metadata": {
    "tags": [
     "section"
    ]
   },
   "source": [
    "### Conditionals"
   ]
  },
  {
   "cell_type": "code",
   "execution_count": 13,
   "metadata": {},
   "outputs": [
    {
     "data": {
      "text/plain": [
       "\"1 is considered as true\""
      ]
     },
     "execution_count": 13,
     "metadata": {},
     "output_type": "execute_result"
    }
   ],
   "source": [
    "cond do\n",
    "    2 + 2 == 5 ->\n",
    "      \"never\"\n",
    "        \n",
    "    x = hd([1, 2, 3]) -> \"#{x} is considered as true\"\n",
    "    \n",
    "    1 + 1 == 2 ->\n",
    "      \"always\"\n",
    "        \n",
    "    true ->\n",
    "      \"Just in case all else fail\"\n",
    "end"
   ]
  },
  {
   "cell_type": "markdown",
   "metadata": {
    "tags": [
     "subsection"
    ]
   },
   "source": [
    "### `if` and `unless`"
   ]
  },
  {
   "cell_type": "code",
   "execution_count": 14,
   "metadata": {},
   "outputs": [
    {
     "data": {
      "text/plain": [
       "\"Easypeasy\""
      ]
     },
     "execution_count": 14,
     "metadata": {},
     "output_type": "execute_result"
    }
   ],
   "source": [
    "if true do\n",
    "    \"Easypeasy\"\n",
    "else\n",
    "    \"Hardywardy\"\n",
    "end"
   ]
  },
  {
   "cell_type": "code",
   "execution_count": 15,
   "metadata": {},
   "outputs": [
    {
     "data": {
      "text/plain": [
       "\"A more readable NOT\""
      ]
     },
     "execution_count": 15,
     "metadata": {},
     "output_type": "execute_result"
    }
   ],
   "source": [
    "unless false do\n",
    "    \"A more readable NOT\"\n",
    "end"
   ]
  },
  {
   "cell_type": "code",
   "execution_count": 16,
   "metadata": {},
   "outputs": [
    {
     "data": {
      "text/plain": [
       "\"Easypeasy\""
      ]
     },
     "execution_count": 16,
     "metadata": {},
     "output_type": "execute_result"
    }
   ],
   "source": [
    "# Blocks are just sugar, you can inline too\n",
    "if(true, do: \"Easypeasy\", else: \"Hardywardy\")"
   ]
  },
  {
   "cell_type": "markdown",
   "metadata": {
    "tags": [
     "subsection"
    ]
   },
   "source": [
    "### Pipin hot pipes"
   ]
  },
  {
   "cell_type": "code",
   "execution_count": 17,
   "metadata": {},
   "outputs": [
    {
     "name": "stdout",
     "output_type": "stream",
     "text": [
      "ELIXIR\n"
     ]
    },
    {
     "data": {
      "text/plain": [
       ":ok"
      ]
     },
     "execution_count": 17,
     "metadata": {},
     "output_type": "execute_result"
    }
   ],
   "source": [
    "\"Elixir\"\n",
    "|> String.upcase \n",
    "|> IO.puts "
   ]
  },
  {
   "cell_type": "code",
   "execution_count": 18,
   "metadata": {},
   "outputs": [
    {
     "data": {
      "text/plain": [
       "\"Test name\""
      ]
     },
     "execution_count": 18,
     "metadata": {},
     "output_type": "execute_result"
    }
   ],
   "source": [
    "\"Test\" <> value = \"Test name\""
   ]
  },
  {
   "cell_type": "code",
   "execution_count": 19,
   "metadata": {},
   "outputs": [
    {
     "data": {
      "text/plain": [
       "\" name\""
      ]
     },
     "execution_count": 19,
     "metadata": {},
     "output_type": "execute_result"
    }
   ],
   "source": [
    "value"
   ]
  },
  {
   "cell_type": "markdown",
   "metadata": {
    "tags": [
     "section"
    ]
   },
   "source": [
    "## [Binaries, strings, and charlists](https://elixir-lang.org/getting-started/binaries-strings-and-char-lists.html#utf-8-and-unicode)"
   ]
  },
  {
   "cell_type": "code",
   "execution_count": 20,
   "metadata": {},
   "outputs": [
    {
     "data": {
      "text/plain": [
       "true"
      ]
     },
     "execution_count": 20,
     "metadata": {},
     "output_type": "execute_result"
    }
   ],
   "source": [
    "a = \"test\"\n",
    "is_binary(a)"
   ]
  },
  {
   "cell_type": "code",
   "execution_count": 21,
   "metadata": {},
   "outputs": [
    {
     "name": "stdout",
     "output_type": "stream",
     "text": [
      "false\n",
      "true\n"
     ]
    },
    {
     "data": {
      "text/plain": [
       ":ok"
      ]
     },
     "execution_count": 21,
     "metadata": {},
     "output_type": "execute_result"
    }
   ],
   "source": [
    "a = 'test'\n",
    "IO.puts(is_binary(a))\n",
    "IO.puts(is_list(a))"
   ]
  },
  {
   "cell_type": "code",
   "execution_count": 22,
   "metadata": {},
   "outputs": [
    {
     "name": "stdout",
     "output_type": "stream",
     "text": [
      "test\n"
     ]
    },
    {
     "data": {
      "text/plain": [
       ":ok"
      ]
     },
     "execution_count": 22,
     "metadata": {},
     "output_type": "execute_result"
    }
   ],
   "source": [
    "IO.puts(a)"
   ]
  },
  {
   "cell_type": "code",
   "execution_count": 23,
   "metadata": {},
   "outputs": [
    {
     "data": {
      "text/plain": [
       "false"
      ]
     },
     "execution_count": 23,
     "metadata": {},
     "output_type": "execute_result"
    }
   ],
   "source": [
    "string = \"hełło\" # ł = code point 322 (2 bytes to represent)\n",
    "byte_size(string) == String.length(string)"
   ]
  },
  {
   "cell_type": "code",
   "execution_count": 24,
   "metadata": {},
   "outputs": [
    {
     "name": "stdout",
     "output_type": "stream",
     "text": [
      "Size in bytes: 7\n",
      "Size in chars: 5\n"
     ]
    },
    {
     "data": {
      "text/plain": [
       ":ok"
      ]
     },
     "execution_count": 24,
     "metadata": {},
     "output_type": "execute_result"
    }
   ],
   "source": [
    "IO.puts(\"Size in bytes: #{byte_size(string)}\")\n",
    "IO.puts(\"Size in chars: #{String.length(string)}\")"
   ]
  },
  {
   "cell_type": "code",
   "execution_count": 25,
   "metadata": {},
   "outputs": [
    {
     "data": {
      "text/plain": [
       "\"BAFFLE\""
      ]
     },
     "execution_count": 25,
     "metadata": {},
     "output_type": "execute_result"
    }
   ],
   "source": [
    "\"BAﬄE\" |> String.upcase\n"
   ]
  },
  {
   "cell_type": "code",
   "execution_count": 26,
   "metadata": {},
   "outputs": [
    {
     "data": {
      "text/plain": [
       "[104, 101, 322, 322, 111]"
      ]
     },
     "execution_count": 26,
     "metadata": {},
     "output_type": "execute_result"
    }
   ],
   "source": [
    "to_charlist \"hełło\""
   ]
  },
  {
   "cell_type": "code",
   "execution_count": 27,
   "metadata": {},
   "outputs": [
    {
     "data": {
      "text/plain": [
       "104"
      ]
     },
     "execution_count": 27,
     "metadata": {},
     "output_type": "execute_result"
    }
   ],
   "source": [
    "# Get ASCII code with '?' prefix\n",
    "?h"
   ]
  },
  {
   "cell_type": "code",
   "execution_count": 28,
   "metadata": {},
   "outputs": [
    {
     "data": {
      "text/plain": [
       "<<0, 1, 2, 3>>"
      ]
     },
     "execution_count": 28,
     "metadata": {},
     "output_type": "execute_result"
    }
   ],
   "source": [
    "# Binaries!\n",
    "<<0, 1, 2, 3>>\n"
   ]
  },
  {
   "cell_type": "code",
   "execution_count": 29,
   "metadata": {},
   "outputs": [
    {
     "data": {
      "text/plain": [
       "4"
      ]
     },
     "execution_count": 29,
     "metadata": {},
     "output_type": "execute_result"
    }
   ],
   "source": [
    "# Getting size of binary\n",
    "byte_size(<<0, 1, 2, 3>>)"
   ]
  },
  {
   "cell_type": "code",
   "execution_count": 30,
   "metadata": {},
   "outputs": [
    {
     "data": {
      "text/plain": [
       "\"hi thereo\""
      ]
     },
     "execution_count": 30,
     "metadata": {},
     "output_type": "execute_result"
    }
   ],
   "source": [
    "# Concat binaries (does the <> operator look familiar?!)\n",
    "\"hi there\" <> <<111>>"
   ]
  },
  {
   "cell_type": "code",
   "execution_count": 31,
   "metadata": {},
   "outputs": [
    {
     "data": {
      "text/plain": [
       "111"
      ]
     },
     "execution_count": 31,
     "metadata": {},
     "output_type": "execute_result"
    }
   ],
   "source": [
    "?o"
   ]
  },
  {
   "cell_type": "code",
   "execution_count": 32,
   "metadata": {},
   "outputs": [
    {
     "data": {
      "text/plain": [
       "<<104, 101, 121, 0>>"
      ]
     },
     "execution_count": 32,
     "metadata": {},
     "output_type": "execute_result"
    }
   ],
   "source": [
    "# Show binary rep of string w/concat null byte\n",
    "\"hey\" <> <<0>>"
   ]
  },
  {
   "cell_type": "code",
   "execution_count": 33,
   "metadata": {},
   "outputs": [
    {
     "data": {
      "text/plain": [
       "2"
      ]
     },
     "execution_count": 33,
     "metadata": {},
     "output_type": "execute_result"
    }
   ],
   "source": [
    "byte_size(<<256 :: size(16)>>) # Set size to be 2 bytes"
   ]
  },
  {
   "cell_type": "code",
   "execution_count": 34,
   "metadata": {},
   "outputs": [
    {
     "data": {
      "text/plain": [
       "<<1::size(1)>>"
      ]
     },
     "execution_count": 34,
     "metadata": {},
     "output_type": "execute_result"
    }
   ],
   "source": [
    "<<25 :: size(1)>>"
   ]
  },
  {
   "cell_type": "code",
   "execution_count": 35,
   "metadata": {},
   "outputs": [
    {
     "data": {
      "text/plain": [
       "<<0::size(1)>>"
      ]
     },
     "execution_count": 35,
     "metadata": {},
     "output_type": "execute_result"
    }
   ],
   "source": [
    "<<22 :: size(1)>>"
   ]
  },
  {
   "cell_type": "code",
   "execution_count": 36,
   "metadata": {},
   "outputs": [
    {
     "data": {
      "text/plain": [
       "[104, 101, 322, 322, 111]"
      ]
     },
     "execution_count": 36,
     "metadata": {},
     "output_type": "execute_result"
    }
   ],
   "source": [
    "# Single quoted strings are charlists...lists of chars\n",
    "'hełło'"
   ]
  },
  {
   "cell_type": "markdown",
   "metadata": {
    "tags": [
     "section"
    ]
   },
   "source": [
    "## [Keyword lists and maps](https://elixir-lang.org/getting-started/keywords-and-maps.html)"
   ]
  },
  {
   "cell_type": "code",
   "execution_count": 37,
   "metadata": {},
   "outputs": [
    {
     "data": {
      "text/plain": [
       "[a: 1, j: 5]"
      ]
     },
     "execution_count": 37,
     "metadata": {},
     "output_type": "execute_result"
    }
   ],
   "source": [
    "l = [{:a, 1}, {:j,5}]"
   ]
  },
  {
   "cell_type": "code",
   "execution_count": 38,
   "metadata": {},
   "outputs": [
    {
     "data": {
      "text/plain": [
       "true"
      ]
     },
     "execution_count": 38,
     "metadata": {},
     "output_type": "execute_result"
    }
   ],
   "source": [
    "l == [a: 1, j: 5]"
   ]
  },
  {
   "cell_type": "code",
   "execution_count": 39,
   "metadata": {},
   "outputs": [
    {
     "data": {
      "text/plain": [
       "[a: 0, a: 1, j: 5]"
      ]
     },
     "execution_count": 39,
     "metadata": {},
     "output_type": "execute_result"
    }
   ],
   "source": [
    "m = [a: 0] ++ l"
   ]
  },
  {
   "cell_type": "code",
   "execution_count": 40,
   "metadata": {},
   "outputs": [
    {
     "data": {
      "text/plain": [
       "0"
      ]
     },
     "execution_count": 40,
     "metadata": {},
     "output_type": "execute_result"
    }
   ],
   "source": [
    "# Keyword lists take first matching value\n",
    "m[:a]"
   ]
  },
  {
   "cell_type": "code",
   "execution_count": 41,
   "metadata": {
    "tags": [
     "info"
    ]
   },
   "outputs": [
    {
     "name": "stdout",
     "output_type": "stream",
     "text": [
      "\u001b[0m\n",
      "\u001b[7m\u001b[33m                                    Keyword                                     \u001b[0m\n",
      "\u001b[0m\n",
      "A set of functions for working with keywords.\n",
      "\u001b[0m\n",
      "A keyword is a list of two-element tuples where the first element of the tuple\n",
      "is an atom and the second element can be any value.\n",
      "\u001b[0m\n",
      "For example, the following is a keyword list:\n",
      "\u001b[0m\n",
      "\u001b[36m    [{:exit_on_close, true}, {:active, :once}, {:packet_size, 1024}]\u001b[0m\n",
      "\u001b[0m\n",
      "Elixir provides a special and more concise syntax for keyword lists that looks\n",
      "like this:\n",
      "\u001b[0m\n",
      "\u001b[36m    [exit_on_close: true, active: :once, packet_size: 1024]\u001b[0m\n",
      "\u001b[0m\n",
      "This is also the syntax that Elixir uses to inspect keyword lists:\n",
      "\u001b[0m\n",
      "\u001b[36m    iex> [{:active, :once}]\n",
      "    [active: :once]\u001b[0m\n",
      "\u001b[0m\n",
      "The two syntaxes are completely equivalent. Note that when keyword lists are\n",
      "passed as the last argument to a function, if the short-hand syntax is used\n",
      "then the square brackets around the keyword list can be omitted as well. For\n",
      "example, the following:\n",
      "\u001b[0m\n",
      "\u001b[36m    String.split(\"1-0\", \"-\", trim: true, parts: 2)\u001b[0m\n",
      "\u001b[0m\n",
      "is equivalent to:\n",
      "\u001b[0m\n",
      "\u001b[36m    String.split(\"1-0\", \"-\", [trim: true, parts: 2])\u001b[0m\n",
      "\u001b[0m\n",
      "A keyword may have duplicated keys so it is not strictly a key-value store.\n",
      "However most of the functions in this module behave exactly as a dictionary so\n",
      "they work similarly to the functions you would find in the \u001b[36mMap\u001b[0m module.\n",
      "\u001b[0m\n",
      "For example, \u001b[36mKeyword.get/3\u001b[0m will get the first entry matching the given key,\n",
      "regardless if duplicated entries exist. Similarly, \u001b[36mKeyword.put/3\u001b[0m and\n",
      "\u001b[36mKeyword.delete/3\u001b[0m ensure all duplicated entries for a given key are removed when\n",
      "invoked. Note that operations that require keys to be found in the keyword list\n",
      "(like \u001b[36mKeyword.get/3\u001b[0m) need to traverse the list in order to find keys, so these\n",
      "operations may be slower than their map counterparts.\n",
      "\u001b[0m\n",
      "A handful of functions exist to handle duplicated keys, in particular,\n",
      "\u001b[36mEnum.into/2\u001b[0m allows creating new keywords without removing duplicated keys,\n",
      "\u001b[36mget_values/2\u001b[0m returns all values for a given key and \u001b[36mdelete_first/2\u001b[0m deletes just\n",
      "one of the existing entries.\n",
      "\u001b[0m\n",
      "The functions in \u001b[36mKeyword\u001b[0m do not guarantee any property when it comes to\n",
      "ordering. However, since a keyword list is simply a list, all the operations\n",
      "defined in \u001b[36mEnum\u001b[0m and \u001b[36mList\u001b[0m can be applied too, especially when ordering is\n",
      "required.\n",
      "\u001b[0m\n"
     ]
    }
   ],
   "source": [
    "h Keyword"
   ]
  },
  {
   "cell_type": "code",
   "execution_count": 42,
   "metadata": {
    "tags": [
     "info"
    ]
   },
   "outputs": [
    {
     "name": "stdout",
     "output_type": "stream",
     "text": [
      "\u001b[0m\n",
      "\u001b[7m\u001b[33m                         def put(keywords, key, value)                          \u001b[0m\n",
      "\u001b[0m\n",
      "Puts the given \u001b[36mvalue\u001b[0m under \u001b[36mkey\u001b[0m.\n",
      "\u001b[0m\n",
      "If a previous value is already stored, all entries are removed and the value is\n",
      "overridden.\n",
      "\u001b[0m\n",
      "\u001b[33m## Examples\u001b[0m\n",
      "\u001b[0m\n",
      "\u001b[36m    iex> Keyword.put([a: 1], :b, 2)\n",
      "    [b: 2, a: 1]\n",
      "    iex> Keyword.put([a: 1, b: 2], :a, 3)\n",
      "    [a: 3, b: 2]\n",
      "    iex> Keyword.put([a: 1, b: 2, a: 4], :a, 3)\n",
      "    [a: 3, b: 2]\u001b[0m\n",
      "\u001b[0m\n"
     ]
    }
   ],
   "source": [
    "h Keyword.put/3"
   ]
  },
  {
   "cell_type": "code",
   "execution_count": 43,
   "metadata": {},
   "outputs": [
    {
     "data": {
      "text/plain": [
       "[a: 2, j: 5]"
      ]
     },
     "execution_count": 43,
     "metadata": {},
     "output_type": "execute_result"
    }
   ],
   "source": [
    "# Keyword.put/3 & Keyword.get/3 eliminate dupes\n",
    "Keyword.put(m, :a, 2)"
   ]
  },
  {
   "cell_type": "code",
   "execution_count": 44,
   "metadata": {},
   "outputs": [
    {
     "data": {
      "text/plain": [
       "%{2 => :b, :a => 1}"
      ]
     },
     "execution_count": 44,
     "metadata": {},
     "output_type": "execute_result"
    }
   ],
   "source": [
    "# Maps are similar to kw lists, but their keys can be anything (not just :atoms!)\n",
    "map = %{:a => 1, 2 => :b}"
   ]
  },
  {
   "cell_type": "code",
   "execution_count": 45,
   "metadata": {},
   "outputs": [
    {
     "name": "stdout",
     "output_type": "stream",
     "text": [
      "1\n"
     ]
    },
    {
     "data": {
      "text/plain": [
       ":ok"
      ]
     },
     "execution_count": 45,
     "metadata": {},
     "output_type": "execute_result"
    }
   ],
   "source": [
    "# Maps do not allow attribute-like access for non-atom keys\n",
    "\n",
    "IO.puts(map.a)"
   ]
  },
  {
   "cell_type": "code",
   "execution_count": 46,
   "metadata": {},
   "outputs": [
    {
     "ename": "MatchError",
     "evalue": "1",
     "output_type": "error",
     "traceback": [
      "** %MatchError{term: {:error, {1, \"syntax error before: \", \"2\"}}}"
     ]
    }
   ],
   "source": [
    "IO.puts(map.2)"
   ]
  },
  {
   "cell_type": "markdown",
   "metadata": {
    "tags": [
     "note"
    ]
   },
   "source": [
    "_Key differences between maps and keyword lists_:\n",
    "\n",
    "- **Maps** allow any value as a key     || **KW lists** only allow atoms as keys  \n",
    "- **Maps** are not ordered              || **KW lists** are ordered  \n",
    "- **Maps** take last value if dupe keys || **KW lists** take first value if dupe keys  \n",
    "- **Maps** are useful for pattern matching || **KW lists** are useful for `case`s"
   ]
  },
  {
   "cell_type": "markdown",
   "metadata": {
    "tags": [
     "section"
    ]
   },
   "source": [
    "### Accessing maps"
   ]
  },
  {
   "cell_type": "code",
   "execution_count": 46,
   "metadata": {},
   "outputs": [
    {
     "data": {
      "text/plain": [
       "1"
      ]
     },
     "execution_count": 46,
     "metadata": {},
     "output_type": "execute_result"
    }
   ],
   "source": [
    "Map.get(%{:a => 1, 2 => :b}, :a)"
   ]
  },
  {
   "cell_type": "code",
   "execution_count": 47,
   "metadata": {},
   "outputs": [
    {
     "data": {
      "text/plain": [
       "%{2 => :b, :a => 1, :c => 3}"
      ]
     },
     "execution_count": 47,
     "metadata": {},
     "output_type": "execute_result"
    }
   ],
   "source": [
    "Map.put(%{:a => 1, 2 => :b}, :c, 3)"
   ]
  },
  {
   "cell_type": "code",
   "execution_count": 48,
   "metadata": {},
   "outputs": [
    {
     "data": {
      "text/plain": [
       "%{a: 1, b: 2}"
      ]
     },
     "execution_count": 48,
     "metadata": {},
     "output_type": "execute_result"
    }
   ],
   "source": [
    "map = %{:a => 1,  :b => 2}"
   ]
  },
  {
   "cell_type": "code",
   "execution_count": 49,
   "metadata": {},
   "outputs": [
    {
     "data": {
      "text/plain": [
       "%{a: 1, b: \"two\"}"
      ]
     },
     "execution_count": 49,
     "metadata": {},
     "output_type": "execute_result"
    }
   ],
   "source": [
    "# Update a key's value\n",
    "%{map | :b => \"two\"}"
   ]
  },
  {
   "cell_type": "code",
   "execution_count": 50,
   "metadata": {},
   "outputs": [
    {
     "ename": "KeyError",
     "evalue": "1",
     "output_type": "error",
     "traceback": [
      "** %KeyError{key: 2, term: %{a: 1, b: 2}}"
     ]
    }
   ],
   "source": [
    "# Attempting to update a non-existent key fails\n",
    "%{map | 2 => \"two\"}"
   ]
  },
  {
   "cell_type": "code",
   "execution_count": 50,
   "metadata": {},
   "outputs": [
    {
     "data": {
      "text/plain": [
       "%{a: 1, b: 2, c: 3}"
      ]
     },
     "execution_count": 50,
     "metadata": {},
     "output_type": "execute_result"
    }
   ],
   "source": [
    "# Extend a map with new keys via Map.put/3\n",
    "Map.put(map, :c, 3)"
   ]
  },
  {
   "cell_type": "code",
   "execution_count": 51,
   "metadata": {},
   "outputs": [
    {
     "ename": "MatchError",
     "evalue": "1",
     "output_type": "error",
     "traceback": [
      "** %MatchError{term: {:error, {2, \"syntax error before: \", \"b\"}}}"
     ]
    }
   ],
   "source": [
    "# Can't mix assignment operators\n",
    "map = %{a: 1, :b => 2}"
   ]
  },
  {
   "cell_type": "markdown",
   "metadata": {
    "tags": [
     "subsection"
    ]
   },
   "source": [
    "### Nested maps\n",
    "_I pray there are better types for complex data than this_"
   ]
  },
  {
   "cell_type": "code",
   "execution_count": 51,
   "metadata": {},
   "outputs": [
    {
     "data": {
      "text/plain": [
       "[john: %{age: 27, languages: [\"Erlang\", \"Ruby\", \"Elixir\"], name: \"John\"}, mary: %{age: 29, languages: [\"Elixir\", \"F#\", \"Clojure\"], name: \"Mary\"}]"
      ]
     },
     "execution_count": 51,
     "metadata": {},
     "output_type": "execute_result"
    }
   ],
   "source": [
    "users = [\n",
    "  john: %{name: \"John\", age: 27, languages: [\"Erlang\", \"Ruby\", \"Elixir\"]},\n",
    "  mary: %{name: \"Mary\", age: 29, languages: [\"Elixir\", \"F#\", \"Clojure\"]}\n",
    "]"
   ]
  },
  {
   "cell_type": "code",
   "execution_count": 52,
   "metadata": {
    "slideshow": {
     "slide_type": "-"
    }
   },
   "outputs": [
    {
     "data": {
      "text/plain": [
       "%{age: 27, languages: [\"Erlang\", \"Ruby\", \"Elixir\"], name: \"John\"}"
      ]
     },
     "execution_count": 52,
     "metadata": {},
     "output_type": "execute_result"
    }
   ],
   "source": [
    "users[:john]"
   ]
  },
  {
   "cell_type": "code",
   "execution_count": 53,
   "metadata": {},
   "outputs": [
    {
     "data": {
      "text/plain": [
       "true"
      ]
     },
     "execution_count": 53,
     "metadata": {},
     "output_type": "execute_result"
    }
   ],
   "source": [
    "is_integer(users[:john].age)"
   ]
  },
  {
   "cell_type": "code",
   "execution_count": 54,
   "metadata": {},
   "outputs": [
    {
     "data": {
      "text/plain": [
       "true"
      ]
     },
     "execution_count": 54,
     "metadata": {},
     "output_type": "execute_result"
    }
   ],
   "source": [
    "is_list(users[:john].languages)"
   ]
  },
  {
   "cell_type": "markdown",
   "metadata": {},
   "source": [
    "### Modify nested maps with `put_in`"
   ]
  },
  {
   "cell_type": "code",
   "execution_count": 57,
   "metadata": {},
   "outputs": [
    {
     "data": {
      "text/plain": [
       "[john: %{age: 31, languages: [\"Erlang\", \"Ruby\", \"Elixir\"], name: \"John\"}, mary: %{age: 29, languages: [\"Elixir\", \"F#\"], name: \"Mary\"}]"
      ]
     },
     "execution_count": 57,
     "metadata": {},
     "output_type": "execute_result"
    }
   ],
   "source": [
    "users = put_in users[:john].age, 31"
   ]
  },
  {
   "cell_type": "code",
   "execution_count": 58,
   "metadata": {},
   "outputs": [
    {
     "data": {
      "text/plain": [
       "[john: %{age: 31, languages: [\"Erlang\", \"Ruby\", \"Elixir\"], name: \"John\"}, mary: %{age: 29, languages: [\"Elixir\", \"F#\"], name: \"Mary\"}]"
      ]
     },
     "execution_count": 58,
     "metadata": {},
     "output_type": "execute_result"
    }
   ],
   "source": [
    "# Remove attributes with `update_in` and an anon function\n",
    "users = update_in users[:mary].languages, \n",
    "fn languages -> List.delete(languages, \"Clojure\") end"
   ]
  },
  {
   "cell_type": "markdown",
   "metadata": {},
   "source": [
    "## Recursion\n",
    "\n",
    "Recursion is a fundamental concept in Elixir. Because it's a functional languae with immutable types, loops in Elixir are different from their imperative cousins."
   ]
  },
  {
   "cell_type": "markdown",
   "metadata": {},
   "source": [
    "Here's a traditional loop in an imperative language (C)\n",
    "\n",
    "```\n",
    "for(i = 0; i < sizeof(array); i++) {\n",
    "  array[i] = array[i] * 2;\n",
    "}\n",
    "```\n",
    "\n",
    "As you can C, it depends on changing (or in functional terms _mutating_) a counter variable (the loop also mutates the array in the process)."
   ]
  },
  {
   "cell_type": "markdown",
   "metadata": {},
   "source": [
    "In Elixir, we cannot mutate variables (all Elixir variables are _immutable_).\n",
    "\n",
    "Instead, we must rely on recursion, and design our loops to continue recursively until a certain condition is reached which halts execution."
   ]
  },
  {
   "cell_type": "code",
   "execution_count": 4,
   "metadata": {},
   "outputs": [
    {
     "data": {
      "text/plain": [
       "{:module, Recursion, <<70, 79, 82, 49, 0, 0, 4, 136, 66, 69, 65, 77, 65, 116, 85, 56, 0, 0, 0, 120, 0, 0, 0, 11, 16, 69, 108, 105, 120, 105, 114, 46, 82, 101, 99, 117, 114, 115, 105, 111, 110, 8, 95, 95, 105, 110, 102, ...>>, {:print_multiple_times, 2}}"
      ]
     },
     "execution_count": 4,
     "metadata": {},
     "output_type": "execute_result"
    }
   ],
   "source": [
    "  defmodule Recursion do\n",
    "  def print_multiple_times(msg, n) when n <= 1 do\n",
    "    IO.puts msg\n",
    "  end\n",
    "\n",
    "  def print_multiple_times(msg, n) do\n",
    "    IO.puts msg\n",
    "    print_multiple_times(msg, n - 1)\n",
    "  end\n",
    "  end"
   ]
  },
  {
   "cell_type": "code",
   "execution_count": 5,
   "metadata": {},
   "outputs": [
    {
     "name": "stdout",
     "output_type": "stream",
     "text": [
      "Hello!\n",
      "Hello!\n",
      "Hello!\n"
     ]
    },
    {
     "data": {
      "text/plain": [
       ":ok"
      ]
     },
     "execution_count": 5,
     "metadata": {},
     "output_type": "execute_result"
    }
   ],
   "source": [
    "Recursion.print_multiple_times(\"Hello!\", 3)\n"
   ]
  },
  {
   "cell_type": "code",
   "execution_count": 9,
   "metadata": {},
   "outputs": [
    {
     "data": {
      "text/plain": [
       "{:module, Recursion2, <<70, 79, 82, 49, 0, 0, 4, 72, 66, 69, 65, 77, 65, 116, 85, 56, 0, 0, 0, 91, 0, 0, 0, 10, 17, 69, 108, 105, 120, 105, 114, 46, 82, 101, 99, 117, 114, 115, 105, 111, 110, 50, 8, 95, 95, 105, 110, ...>>, {:fib, 1}}"
      ]
     },
     "execution_count": 9,
     "metadata": {},
     "output_type": "execute_result"
    }
   ],
   "source": [
    "defmodule Recursion2 do\n",
    "\n",
    "def fib(n) when n == 0 or n == 1 do\n",
    "  n\n",
    "end\n",
    "\n",
    "def fib(n) when n > 1 do\n",
    "  fib(n-2) + fib(n-1)\n",
    "end\n",
    "\n",
    "\n",
    "end"
   ]
  },
  {
   "cell_type": "code",
   "execution_count": 21,
   "metadata": {},
   "outputs": [
    {
     "data": {
      "text/plain": [
       "13"
      ]
     },
     "execution_count": 21,
     "metadata": {},
     "output_type": "execute_result"
    }
   ],
   "source": [
    "Recursion2.fib(7)"
   ]
  },
  {
   "cell_type": "code",
   "execution_count": null,
   "metadata": {
    "collapsed": true
   },
   "outputs": [],
   "source": []
  }
 ],
 "metadata": {
  "kernelspec": {
   "display_name": "Elixir",
   "language": "Elixir",
   "name": "ielixir"
  },
  "language_info": {
   "codemirror_mode": "elixir",
   "file_extension": "ex",
   "mimetype": "text/x-elixir",
   "name": "elixir",
   "nbconvert_exporter": "",
   "pygments_lexer": "elixir",
   "version": "#Version<1.5.3>"
  }
 },
 "nbformat": 4,
 "nbformat_minor": 2
}
