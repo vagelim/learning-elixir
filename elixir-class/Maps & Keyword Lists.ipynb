{
 "cells": [
  {
   "cell_type": "code",
   "execution_count": 1,
   "metadata": {},
   "outputs": [
    {
     "data": {
      "text/plain": [
       "%{primary: \"red\", secondary: \"yellow\", tertiary: \"blue\"}"
      ]
     },
     "execution_count": 1,
     "metadata": {},
     "output_type": "execute_result"
    }
   ],
   "source": [
    "colors  = %{primary: \"red\", secondary: \"yellow\", tertiary: \"blue\"}"
   ]
  },
  {
   "cell_type": "markdown",
   "metadata": {},
   "source": [
    "Updating maps"
   ]
  },
  {
   "cell_type": "code",
   "execution_count": 2,
   "metadata": {},
   "outputs": [
    {
     "ename": "CompileError",
     "evalue": "1",
     "output_type": "error",
     "traceback": [
      "** (CompileError) console:2 \"cannot invoke remote function colors.primary/0 inside match\""
     ]
    }
   ],
   "source": [
    "# This won't work\n",
    "colors.primary = \"blue\""
   ]
  },
  {
   "cell_type": "code",
   "execution_count": 3,
   "metadata": {},
   "outputs": [
    {
     "ename": "CompileError",
     "evalue": "1",
     "output_type": "error",
     "traceback": [
      "** (CompileError) console:1 \"undefined function module_info/0\""
     ]
    }
   ],
   "source": [
    "module_info"
   ]
  },
  {
   "cell_type": "code",
   "execution_count": 6,
   "metadata": {},
   "outputs": [
    {
     "data": {
      "text/plain": [
       "[delete: 2, drop: 2, equal?: 2, fetch: 2, fetch!: 2, from_struct: 1, get: 2, get: 3, get_and_update: 3, get_and_update!: 3, get_lazy: 3, has_key?: 2, keys: 1, merge: 2, merge: 3, new: 0, new: 1, new: 2, pop: 2, pop: 3, pop_lazy: 3, put: 3, put_new: 3, put_new_lazy: 3, replace: 3, replace!: 3, size: 1, split: 2, take: 2, to_list: 1, update: 4, update!: 3, values: 1]"
      ]
     },
     "execution_count": 6,
     "metadata": {},
     "output_type": "execute_result"
    }
   ],
   "source": [
    "# Get list of functions for Map\n",
    "Map.__info__(:functions)"
   ]
  },
  {
   "cell_type": "markdown",
   "metadata": {},
   "source": [
    "Use `put` to update a key's value to a specific value  \n",
    "\n",
    "_Keep in mind_ elixir **always** returns new variables and **never**\n",
    "alters variables in place"
   ]
  },
  {
   "cell_type": "code",
   "execution_count": 14,
   "metadata": {},
   "outputs": [
    {
     "data": {
      "text/plain": [
       "%{primary: \"blue\", secondary: \"yellow\", tertiary: \"blue\"}"
      ]
     },
     "execution_count": 14,
     "metadata": {},
     "output_type": "execute_result"
    }
   ],
   "source": [
    "Map.put(colors, :primary, \"blue\")"
   ]
  },
  {
   "cell_type": "markdown",
   "metadata": {},
   "source": [
    "`put` can also extend maps"
   ]
  },
  {
   "cell_type": "code",
   "execution_count": 16,
   "metadata": {},
   "outputs": [
    {
     "data": {
      "text/plain": [
       "%{primary: \"red\", secondary: \"yellow\", tertiary: \"black\"}"
      ]
     },
     "execution_count": 16,
     "metadata": {},
     "output_type": "execute_result"
    }
   ],
   "source": [
    "Map.put(colors, :tertiary, \"black\")"
   ]
  },
  {
   "cell_type": "markdown",
   "metadata": {},
   "source": [
    "Use `update!` to update a key's value with a function  \n",
    "the `!` means the function will raise an error if key is not present  \n",
    "(will raise a [KeyError](https://hexdocs.pm/elixir/KeyError.html))  "
   ]
  },
  {
   "cell_type": "code",
   "execution_count": 17,
   "metadata": {},
   "outputs": [
    {
     "data": {
      "text/plain": [
       "%{primary: \"red and blue\", secondary: \"yellow\", tertiary: \"blue\"}"
      ]
     },
     "execution_count": 17,
     "metadata": {},
     "output_type": "execute_result"
    }
   ],
   "source": [
    "Map.update!(colors, :primary,  &(&1 <> \" and blue\"))"
   ]
  },
  {
   "cell_type": "code",
   "execution_count": 18,
   "metadata": {},
   "outputs": [
    {
     "data": {
      "text/plain": [
       "%{primary: \"blue\", secondary: \"yellow\", tertiary: \"blue\"}"
      ]
     },
     "execution_count": 18,
     "metadata": {},
     "output_type": "execute_result"
    }
   ],
   "source": [
    "# Alternative method of updating key's value\n",
    "%{ colors | primary: \"blue\"}"
   ]
  },
  {
   "cell_type": "code",
   "execution_count": 19,
   "metadata": {},
   "outputs": [
    {
     "ename": "KeyError",
     "evalue": "1",
     "output_type": "error",
     "traceback": [
      "** %KeyError{key: :quaternary, term: %{primary: \"red\", secondary: \"yellow\", tertiary: \"blue\"}}"
     ]
    }
   ],
   "source": [
    "# # Alternative method fails if key is not present (similar to Map.update!)\n",
    "%{ colors | quaternary: \"black\"}"
   ]
  },
  {
   "cell_type": "markdown",
   "metadata": {},
   "source": [
    "## Keyword Lists"
   ]
  },
  {
   "cell_type": "code",
   "execution_count": 27,
   "metadata": {},
   "outputs": [
    {
     "data": {
      "text/plain": [
       "[primary: \"red\", secondary: \"blue\"]"
      ]
     },
     "execution_count": 27,
     "metadata": {},
     "output_type": "execute_result"
    }
   ],
   "source": [
    "colors1 = [{:primary, \"red\"}, {:secondary, \"blue\"}]"
   ]
  },
  {
   "cell_type": "code",
   "execution_count": 28,
   "metadata": {},
   "outputs": [
    {
     "data": {
      "text/plain": [
       "[primary: \"red\", secondary: \"blue\"]"
      ]
     },
     "execution_count": 28,
     "metadata": {},
     "output_type": "execute_result"
    }
   ],
   "source": [
    "colors2 = [primary: \"red\", secondary: \"blue\"]"
   ]
  },
  {
   "cell_type": "code",
   "execution_count": 29,
   "metadata": {},
   "outputs": [
    {
     "data": {
      "text/plain": [
       "true"
      ]
     },
     "execution_count": 29,
     "metadata": {},
     "output_type": "execute_result"
    }
   ],
   "source": [
    "colors1 == colors2"
   ]
  },
  {
   "cell_type": "code",
   "execution_count": null,
   "metadata": {},
   "outputs": [],
   "source": []
  }
 ],
 "metadata": {
  "kernelspec": {
   "display_name": "Elixir",
   "language": "Elixir",
   "name": "ielixir"
  },
  "language_info": {
   "codemirror_mode": "elixir",
   "file_extension": "ex",
   "mimetype": "text/x-elixir",
   "name": "elixir",
   "nbconvert_exporter": "",
   "pygments_lexer": "elixir",
   "version": "#Version<1.6.4>"
  }
 },
 "nbformat": 4,
 "nbformat_minor": 2
}
